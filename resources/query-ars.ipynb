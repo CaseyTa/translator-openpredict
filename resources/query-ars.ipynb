{
 "cells": [
  {
   "cell_type": "markdown",
   "metadata": {},
   "source": [
    "# Query the Translator ARS\n",
    "\n",
    "Just change the query provided and run it\n",
    "\n",
    "More details on how to view the results of the query at https://github.com/NCATSTranslator/Translator-All/wiki/Autonomous-Relay-System-(ARS)#interface "
   ]
  },
  {
   "cell_type": "code",
   "execution_count": 2,
   "metadata": {
    "tags": []
   },
   "outputs": [
    {
     "name": "stdout",
     "output_type": "stream",
     "text": [
      "Check the run results at https://arax.ncats.io/?source=ARS&id=cbd7797d-c878-4e35-a04f-ca6afeab8684\n"
     ]
    }
   ],
   "source": [
    "import requests\n",
    "import json\n",
    "\n",
    "query = {\n",
    "    \"message\": {\n",
    "        \"query_graph\": {\n",
    "            \"nodes\": {\n",
    "                \"n0\": {\n",
    "                    \"categories\": [\"biolink:Gene\"]\n",
    "                },\n",
    "                \"n1\": {\n",
    "                    \"ids\": [\"CHEBI:45783\"],\n",
    "                    \"categories\": [\"biolink:ChemicalSubstance\"]\n",
    "                },\n",
    "                \"n2\": {\n",
    "                    \"ids\": [\"MONDO:0005301\"],\n",
    "                    \"categories\": [\"biolink:Disease\"]\n",
    "                },\n",
    "                \"n3\": {\n",
    "                    \"categories\": [\"biolink:ChemicalSubstance\"]\n",
    "                }\n",
    "            },\n",
    "            \"edges\": {\n",
    "                \"e01\": {\n",
    "                    \"subject\": \"n0\",\n",
    "                    \"object\": \"n1\",\n",
    "                    \"predicates\": [\"biolink:related_to\"]\n",
    "                },\n",
    "                \"e02\": {\n",
    "                    \"subject\": \"n0\",\n",
    "                    \"object\": \"n2\",\n",
    "                    \"predicates\": [\"biolink:related_to\"]\n",
    "                },\n",
    "                \"e03\": {\n",
    "                    \"subject\": \"n0\",\n",
    "                    \"object\": \"n3\",\n",
    "                    \"predicates\": [\"biolink:related_to\"]\n",
    "                }\n",
    "            }\n",
    "        }\n",
    "    }\n",
    "}\n",
    "\n",
    "data = json.dumps(query)\n",
    "headers = {'Content-type': 'application/json'}\n",
    "ars_resp = requests.post(\n",
    "    'https://ars-prod.transltr.io/ars/api/submit',\n",
    "    data=data, headers=headers,\n",
    ").json()\n",
    "print(f\"Check the run results at https://arax.ncats.io/?source=ARS&id={ars_resp['pk']}\")"
   ]
  },
  {
   "cell_type": "code",
   "execution_count": null,
   "metadata": {},
   "outputs": [],
   "source": []
  }
 ],
 "metadata": {
  "interpreter": {
   "hash": "916dbcbb3f70747c44a77c7bcd40155683ae19c65e1c03b4aa3499c5328201f1"
  },
  "kernelspec": {
   "display_name": "Python 3.8.5 64-bit",
   "name": "python3"
  },
  "language_info": {
   "codemirror_mode": {
    "name": "ipython",
    "version": 3
   },
   "file_extension": ".py",
   "mimetype": "text/x-python",
   "name": "python",
   "nbconvert_exporter": "python",
   "pygments_lexer": "ipython3",
   "version": "3.10.12"
  }
 },
 "nbformat": 4,
 "nbformat_minor": 4
}
