{
 "cells": [
  {
   "cell_type": "markdown",
   "metadata": {},
   "source": [
    "# Query the Translator ARS\n",
    "\n",
    "Just change the query provided and run it\n",
    "\n",
    "More details on how to view the results of the query at https://github.com/NCATSTranslator/Translator-All/wiki/Autonomous-Relay-System-(ARS)#interface "
   ]
  },
  {
   "cell_type": "code",
   "execution_count": 1,
   "metadata": {
    "tags": []
   },
   "outputs": [
    {
     "ename": "NameError",
     "evalue": "name 'json' is not defined",
     "output_type": "error",
     "traceback": [
      "\u001b[0;31m---------------------------------------------------------------------------\u001b[0m",
      "\u001b[0;31mNameError\u001b[0m                                 Traceback (most recent call last)",
      "\u001b[1;32m/home/vemonet/dev/translator/translator-openpredict/resources/query-ars.ipynb Cell 2\u001b[0m line \u001b[0;36m4\n\u001b[1;32m      <a href='vscode-notebook-cell:/home/vemonet/dev/translator/translator-openpredict/resources/query-ars.ipynb#W1sZmlsZQ%3D%3D?line=0'>1</a>\u001b[0m \u001b[39mimport\u001b[39;00m \u001b[39mrequests\u001b[39;00m\n\u001b[1;32m      <a href='vscode-notebook-cell:/home/vemonet/dev/translator/translator-openpredict/resources/query-ars.ipynb#W1sZmlsZQ%3D%3D?line=2'>3</a>\u001b[0m query \u001b[39m=\u001b[39m {\n\u001b[1;32m      <a href='vscode-notebook-cell:/home/vemonet/dev/translator/translator-openpredict/resources/query-ars.ipynb#W1sZmlsZQ%3D%3D?line=3'>4</a>\u001b[0m     \u001b[39m\"\u001b[39m\u001b[39mmessage\u001b[39m\u001b[39m\"\u001b[39m: {\n\u001b[1;32m      <a href='vscode-notebook-cell:/home/vemonet/dev/translator/translator-openpredict/resources/query-ars.ipynb#W1sZmlsZQ%3D%3D?line=4'>5</a>\u001b[0m         \u001b[39m\"\u001b[39m\u001b[39mquery_graph\u001b[39m\u001b[39m\"\u001b[39m: {\n\u001b[0;32m   (...)\u001b[0m\n\u001b[1;32m     <a href='vscode-notebook-cell:/home/vemonet/dev/translator/translator-openpredict/resources/query-ars.ipynb#W1sZmlsZQ%3D%3D?line=39'>40</a>\u001b[0m     }\n\u001b[1;32m     <a href='vscode-notebook-cell:/home/vemonet/dev/translator/translator-openpredict/resources/query-ars.ipynb#W1sZmlsZQ%3D%3D?line=40'>41</a>\u001b[0m }\n\u001b[0;32m---> <a href='vscode-notebook-cell:/home/vemonet/dev/translator/translator-openpredict/resources/query-ars.ipynb#W1sZmlsZQ%3D%3D?line=42'>43</a>\u001b[0m data \u001b[39m=\u001b[39m json\u001b[39m.\u001b[39mdumps(query)\n\u001b[1;32m     <a href='vscode-notebook-cell:/home/vemonet/dev/translator/translator-openpredict/resources/query-ars.ipynb#W1sZmlsZQ%3D%3D?line=43'>44</a>\u001b[0m headers \u001b[39m=\u001b[39m {\u001b[39m'\u001b[39m\u001b[39mContent-type\u001b[39m\u001b[39m'\u001b[39m: \u001b[39m'\u001b[39m\u001b[39mapplication/json\u001b[39m\u001b[39m'\u001b[39m}\n\u001b[1;32m     <a href='vscode-notebook-cell:/home/vemonet/dev/translator/translator-openpredict/resources/query-ars.ipynb#W1sZmlsZQ%3D%3D?line=44'>45</a>\u001b[0m ars_resp \u001b[39m=\u001b[39m requests\u001b[39m.\u001b[39mpost(\n\u001b[1;32m     <a href='vscode-notebook-cell:/home/vemonet/dev/translator/translator-openpredict/resources/query-ars.ipynb#W1sZmlsZQ%3D%3D?line=45'>46</a>\u001b[0m     \u001b[39m'\u001b[39m\u001b[39mhttps://ars-prod.transltr.io/ars/api/submit\u001b[39m\u001b[39m'\u001b[39m,\n\u001b[1;32m     <a href='vscode-notebook-cell:/home/vemonet/dev/translator/translator-openpredict/resources/query-ars.ipynb#W1sZmlsZQ%3D%3D?line=46'>47</a>\u001b[0m     data\u001b[39m=\u001b[39mdata, headers\u001b[39m=\u001b[39mheaders,\n\u001b[1;32m     <a href='vscode-notebook-cell:/home/vemonet/dev/translator/translator-openpredict/resources/query-ars.ipynb#W1sZmlsZQ%3D%3D?line=47'>48</a>\u001b[0m )\u001b[39m.\u001b[39mjson()\n",
      "\u001b[0;31mNameError\u001b[0m: name 'json' is not defined"
     ]
    }
   ],
   "source": [
    "import requests\n",
    "import json\n",
    "\n",
    "query = {\n",
    "    \"message\": {\n",
    "        \"query_graph\": {\n",
    "            \"nodes\": {\n",
    "                \"n0\": {\n",
    "                    \"categories\": [\"biolink:Gene\"]\n",
    "                },\n",
    "                \"n1\": {\n",
    "                    \"ids\": [\"CHEBI:45783\"],\n",
    "                    \"categories\": [\"biolink:ChemicalSubstance\"]\n",
    "                },\n",
    "                \"n2\": {\n",
    "                    \"ids\": [\"MONDO:0005301\"],\n",
    "                    \"categories\": [\"biolink:Disease\"]\n",
    "                },\n",
    "                \"n3\": {\n",
    "                    \"categories\": [\"biolink:ChemicalSubstance\"]\n",
    "                }\n",
    "            },\n",
    "            \"edges\": {\n",
    "                \"e01\": {\n",
    "                    \"subject\": \"n0\",\n",
    "                    \"object\": \"n1\",\n",
    "                    \"predicates\": [\"biolink:related_to\"]\n",
    "                },\n",
    "                \"e02\": {\n",
    "                    \"subject\": \"n0\",\n",
    "                    \"object\": \"n2\",\n",
    "                    \"predicates\": [\"biolink:related_to\"]\n",
    "                },\n",
    "                \"e03\": {\n",
    "                    \"subject\": \"n0\",\n",
    "                    \"object\": \"n3\",\n",
    "                    \"predicates\": [\"biolink:related_to\"]\n",
    "                }\n",
    "            }\n",
    "        }\n",
    "    }\n",
    "}\n",
    "\n",
    "data = json.dumps(query)\n",
    "headers = {'Content-type': 'application/json'}\n",
    "ars_resp = requests.post(\n",
    "    'https://ars-prod.transltr.io/ars/api/submit',\n",
    "    data=data, headers=headers,\n",
    ").json()\n",
    "print(f\"Check the run results at https://arax.ncats.io/?source=ARS&id={ars_resp['pk']}\")"
   ]
  },
  {
   "cell_type": "code",
   "execution_count": null,
   "metadata": {},
   "outputs": [],
   "source": []
  }
 ],
 "metadata": {
  "interpreter": {
   "hash": "916dbcbb3f70747c44a77c7bcd40155683ae19c65e1c03b4aa3499c5328201f1"
  },
  "kernelspec": {
   "display_name": "Python 3.8.5 64-bit",
   "name": "python3"
  },
  "language_info": {
   "codemirror_mode": {
    "name": "ipython",
    "version": 3
   },
   "file_extension": ".py",
   "mimetype": "text/x-python",
   "name": "python",
   "nbconvert_exporter": "python",
   "pygments_lexer": "ipython3",
   "version": "3.10.12"
  }
 },
 "nbformat": 4,
 "nbformat_minor": 4
}
