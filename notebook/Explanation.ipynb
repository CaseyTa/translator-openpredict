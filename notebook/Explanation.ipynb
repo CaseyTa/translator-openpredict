{
 "cells": [
  {
   "cell_type": "code",
   "execution_count": 1,
   "metadata": {},
   "outputs": [],
   "source": [
    "import pandas as pd"
   ]
  },
  {
   "cell_type": "code",
   "execution_count": 2,
   "metadata": {},
   "outputs": [],
   "source": [
    "#!pip install matplotlib==2.2.3.\n"
   ]
  },
  {
   "cell_type": "code",
   "execution_count": 3,
   "metadata": {},
   "outputs": [],
   "source": [
    "import networkx as nx\n",
    "\n"
   ]
  },
  {
   "cell_type": "code",
   "execution_count": 4,
   "metadata": {},
   "outputs": [],
   "source": [
    "df_op = pd.read_csv('../openpredict/data/input/openpredict-omim-drug.csv')\n"
   ]
  },
  {
   "cell_type": "code",
   "execution_count": 5,
   "metadata": {},
   "outputs": [],
   "source": [
    "df_op = df_op.rename(columns={'omimid': 'disease_id', 'drugid': 'drug_id'})"
   ]
  },
  {
   "cell_type": "code",
   "execution_count": 6,
   "metadata": {},
   "outputs": [],
   "source": [
    "df_op.disease_id = df_op.disease_id.astype(str)\n"
   ]
  },
  {
   "cell_type": "code",
   "execution_count": 7,
   "metadata": {},
   "outputs": [
    {
     "data": {
      "text/plain": [
       "1933"
      ]
     },
     "execution_count": 7,
     "metadata": {},
     "output_type": "execute_result"
    }
   ],
   "source": [
    "indications_dict = set()\n",
    "for i, row in df_op.iterrows():\n",
    "    #row['DB_ID'], row['DO_ID']\n",
    "    pair = (str(row['drug_id']), str(row['disease_id']))\n",
    "    indications_dict.add(pair)\n",
    "len(indications_dict)\n"
   ]
  },
  {
   "cell_type": "code",
   "execution_count": 8,
   "metadata": {},
   "outputs": [],
   "source": [
    "\n",
    "#!pip install gensim"
   ]
  },
  {
   "cell_type": "code",
   "execution_count": 9,
   "metadata": {},
   "outputs": [],
   "source": [
    "from gensim.models import KeyedVectors\n"
   ]
  },
  {
   "cell_type": "code",
   "execution_count": 10,
   "metadata": {},
   "outputs": [],
   "source": [
    "drug_fp_vectors = KeyedVectors.load_word2vec_format(\n",
    "    '../openpredict/data/embedding/drugs_fp_embed.txt', binary=False)\n",
    "disease_hp_vectors = KeyedVectors.load_word2vec_format(\n",
    "    '../openpredict/data/embedding/disease_hp_embed.txt', binary=False)\n"
   ]
  },
  {
   "cell_type": "code",
   "execution_count": 100,
   "metadata": {},
   "outputs": [],
   "source": [
    "# openpredict:most_similar('DB00570', 10)\n",
    "def get_evidence_graph_for_pairs(drug, disease, drug_emb_vectors, disease_emb_vectors):\n",
    "    g = nx.Graph()\n",
    "    #g.add_edge(DRUGB[dr], OMIM[ds], weight=1)\n",
    "    similarDrugs = drug_emb_vectors.most_similar(drug, topn=100)\n",
    "    #print (similarDrugs)\n",
    "    g.add_node(\"DrugBank:\"+drug, id=\"DrugBank:\"+drug,\n",
    "               name=\"fake\", categories=[\"biolink:Drug\"])\n",
    "    for dr, sim in similarDrugs:\n",
    "        print(dr, ' ', drug, 1-sim)\n",
    "        #g.add_edge(dr, drug, weight=1-sim)\n",
    "\n",
    "        g.add_node(\"DrugBank:\"+dr, id=\"DrugBank:\"+dr,\n",
    "                   name=\"fake\", categories=[\"biolink:Drug\"])\n",
    "        g.add_edge(\"DrugBank:\"+dr, \"DrugBank:\"+drug, id=\"DrugBank:\"+dr+\"_DrugBank: \"+drug,\n",
    "                   predicate=\"biolink:similar_to\", subject=\"DrugBank:\"+dr, object=\"DrugBank:\"+drug,  weight=1-sim, attributes={\"description\": \"score\",\n",
    "                                                               \"attribute_type_id\": \"EDAM:data_1772\",\n",
    "                                                               \"value\": 1-sim\n",
    "                                                               })\n",
    "    g.add_node(\"OMIM:\"+disease, id=\"OMIM:\"+disease,\n",
    "               name=\"fake\", categories=[\"biolink:Disease\"])\n",
    "               \n",
    "    similarDiseases = disease_emb_vectors.most_similar(disease, topn=100)\n",
    "    for ds, sim in similarDiseases:\n",
    "        print(ds, ' ', disease)\n",
    "        #g.add_edge(ds, disease, weight=1-sim)\n",
    "        g.add_node(\"OMIM:\"+ds, id=\"OMIM:\"+ds,\n",
    "                   name=\"fake\", categories=[\"biolink:Disease\"])\n",
    "        g.add_edge(\"OMIM:\"+ds, \"OMIM:\"+disease,\n",
    "                   id=\"OMIM:\" + ds+\"_OMIM:\"+disease, predicate=\"biolink:similar_to\", subject=\"OMIM:\"+ds, object=\"OMIM:\"+disease, weight=1-sim, attributes={\"description\": \"score\",\n",
    "                                                                                                 \"attribute_type_id\": \"EDAM:data_1772\",\n",
    "                                                                                                 \"value\": 1-sim\n",
    "                                                                                                 })\n",
    "                                                                                                 \n",
    "\n",
    "\n",
    "    for (dr, ds) in indications_dict:\n",
    "        if \"DrugBank:\"+dr in g.nodes() and \"OMIM:\"+ds in g.nodes():\n",
    "            print(dr, ds, 1)\n",
    "            #g.add_edge(dr, ds, weight=1)\n",
    "            g.add_edge(\"DrugBank:\"+dr, \"OMIM:\"+ds, id=\"DrugBank:\" +\n",
    "                       dr+\"_OMIM:\"+ds, predicate=\"biolink:treats\", subject=\"DrugBank:\"+dr, object=\"OMIM:\"+ds,  weight=1, attributes={\"description\": \"score\",\n",
    "                                                                               \"attribute_type_id\": \"EDAM:data_1772\",\n",
    "                                                                               \"value\": \"1.0\"\n",
    "                                                                               })\n",
    "    return g\n"
   ]
  },
  {
   "cell_type": "code",
   "execution_count": 101,
   "metadata": {},
   "outputs": [
    {
     "name": "stdout",
     "output_type": "stream",
     "text": [
      "DB00572   DB00570 0.013681769371032715\n",
      "DB00541   DB00570 0.02744448184967041\n",
      "DB00584   DB00570 0.02816838026046753\n",
      "DB00563   DB00570 0.02960383892059326\n",
      "DB00590   DB00570 0.031969428062438965\n",
      "DB00542   DB00570 0.035527944564819336\n",
      "DB00557   DB00570 0.03574049472808838\n",
      "DB00552   DB00570 0.03742796182632446\n",
      "DB00611   DB00570 0.04217451810836792\n",
      "DB00537   DB00570 0.045140206813812256\n",
      "DB00530   DB00570 0.04641193151473999\n",
      "DB00571   DB00570 0.048069119453430176\n",
      "DB00521   DB00570 0.04973137378692627\n",
      "DB00598   DB00570 0.049977660179138184\n",
      "DB00593   DB00570 0.051826417446136475\n",
      "DB00497   DB00570 0.052195847034454346\n",
      "DB00583   DB00570 0.05246090888977051\n",
      "DB00549   DB00570 0.05345219373703003\n",
      "DB00519   DB00570 0.054671406745910645\n",
      "DB00569   DB00570 0.054879188537597656\n",
      "DB00585   DB00570 0.055013060569763184\n",
      "DB00559   DB00570 0.05514037609100342\n",
      "DB00545   DB00570 0.05730569362640381\n",
      "DB00622   DB00570 0.05800461769104004\n",
      "DB00502   DB00570 0.05813610553741455\n",
      "DB00644   DB00570 0.06232762336730957\n",
      "DB00514   DB00570 0.06288707256317139\n",
      "DB00500   DB00570 0.06474733352661133\n",
      "DB00492   DB00570 0.06477612257003784\n",
      "DB00608   DB00570 0.06504595279693604\n",
      "DB00550   DB00570 0.06573730707168579\n",
      "DB00491   DB00570 0.06749892234802246\n",
      "DB00532   DB00570 0.06781548261642456\n",
      "DB00623   DB00570 0.06812655925750732\n",
      "DB00612   DB00570 0.06913697719573975\n",
      "DB00481   DB00570 0.06987905502319336\n",
      "DB00619   DB00570 0.07140552997589111\n",
      "DB00575   DB00570 0.07272487878799438\n",
      "DB00640   DB00570 0.07494610548019409\n",
      "DB00651   DB00570 0.07504171133041382\n",
      "DB00650   DB00570 0.0768359899520874\n",
      "DB00631   DB00570 0.07702767848968506\n",
      "DB00494   DB00570 0.07766276597976685\n",
      "DB00642   DB00570 0.07782715559005737\n",
      "DB00564   DB00570 0.07918626070022583\n",
      "DB00591   DB00570 0.07964295148849487\n",
      "DB00476   DB00570 0.08120453357696533\n",
      "DB00540   DB00570 0.08212536573410034\n",
      "DB00652   DB00570 0.0831444263458252\n",
      "DB00605   DB00570 0.08403974771499634\n",
      "DB00535   DB00570 0.08543616533279419\n",
      "DB00490   DB00570 0.08552879095077515\n",
      "DB00501   DB00570 0.08563625812530518\n",
      "DB00471   DB00570 0.08582115173339844\n",
      "DB00588   DB00570 0.08649390935897827\n",
      "DB00674   DB00570 0.08743590116500854\n",
      "DB00468   DB00570 0.08934164047241211\n",
      "DB00547   DB00570 0.08974385261535645\n",
      "DB00465   DB00570 0.09076428413391113\n",
      "DB00480   DB00570 0.09137213230133057\n",
      "DB00661   DB00570 0.0918264389038086\n",
      "DB00586   DB00570 0.09350705146789551\n",
      "DB00647   DB00570 0.09617936611175537\n",
      "DB00445   DB00570 0.09732729196548462\n",
      "DB00472   DB00570 0.09843367338180542\n",
      "DB00696   DB00570 0.09928643703460693\n",
      "DB00457   DB00570 0.10024529695510864\n",
      "DB00533   DB00570 0.10058706998825073\n",
      "DB00692   DB00570 0.10291683673858643\n",
      "DB00544   DB00570 0.1044359803199768\n",
      "DB00424   DB00570 0.1046258807182312\n",
      "DB00620   DB00570 0.10467416048049927\n",
      "DB00470   DB00570 0.10491877794265747\n",
      "DB00704   DB00570 0.10579091310501099\n",
      "DB00641   DB00570 0.10612338781356812\n",
      "DB00419   DB00570 0.1074097752571106\n",
      "DB00603   DB00570 0.10875606536865234\n",
      "DB00678   DB00570 0.10968852043151855\n",
      "DB00444   DB00570 0.11035406589508057\n",
      "DB00454   DB00570 0.11075562238693237\n",
      "DB00548   DB00570 0.11271446943283081\n",
      "DB00635   DB00570 0.11312323808670044\n",
      "DB00627   DB00570 0.11393183469772339\n",
      "DB00694   DB00570 0.11449402570724487\n",
      "DB00630   DB00570 0.11478465795516968\n",
      "DB00448   DB00570 0.11530470848083496\n",
      "DB00449   DB00570 0.11604839563369751\n",
      "DB00716   DB00570 0.11639547348022461\n",
      "DB00412   DB00570 0.11946344375610352\n",
      "DB00715   DB00570 0.11949867010116577\n",
      "DB00714   DB00570 0.1202346682548523\n",
      "DB00654   DB00570 0.12065869569778442\n",
      "DB00385   DB00570 0.12283480167388916\n",
      "DB00580   DB00570 0.12294137477874756\n",
      "DB00675   DB00570 0.12315964698791504\n",
      "DB00655   DB00570 0.12344586849212646\n",
      "DB00484   DB00570 0.12366455793380737\n",
      "DB00422   DB00570 0.1237938404083252\n",
      "DB00669   DB00570 0.12401092052459717\n",
      "DB00461   DB00570 0.12410259246826172\n",
      "254450   236000\n",
      "231900   236000\n",
      "254500   236000\n",
      "260570   236000\n",
      "131440   236000\n",
      "246300   236000\n",
      "133600   236000\n",
      "109100   236000\n",
      "115195   236000\n",
      "148000   236000\n",
      "135550   236000\n",
      "600351   236000\n",
      "178600   236000\n",
      "600496   236000\n",
      "223350   236000\n",
      "260480   236000\n",
      "127350   236000\n",
      "246400   236000\n",
      "608622   236000\n",
      "184700   236000\n",
      "133690   236000\n",
      "604416   236000\n",
      "270960   236000\n",
      "600631   236000\n",
      "258360   236000\n",
      "248190   236000\n",
      "256370   236000\n",
      "246470   236000\n",
      "166300   236000\n",
      "143880   236000\n",
      "133239   236000\n",
      "137760   236000\n",
      "115300   236000\n",
      "137750   236000\n",
      "266600   236000\n",
      "608583   236000\n",
      "148100   236000\n",
      "137800   236000\n",
      "131200   236000\n",
      "143500   236000\n",
      "176807   236000\n",
      "252320   236000\n",
      "145600   236000\n",
      "600807   236000\n",
      "125600   236000\n",
      "144010   236000\n",
      "176800   236000\n",
      "254400   236000\n",
      "188470   236000\n",
      "137400   236000\n",
      "109200   236000\n",
      "156000   236000\n",
      "600803   236000\n",
      "602522   236000\n",
      "157950   236000\n",
      "182280   236000\n",
      "156190   236000\n",
      "275000   236000\n",
      "151590   236000\n",
      "256700   236000\n",
      "153880   236000\n",
      "225740   236000\n",
      "147540   236000\n",
      "161900   236000\n",
      "600808   236000\n",
      "115000   236000\n",
      "160300   236000\n",
      "146110   236000\n",
      "233810   236000\n",
      "604278   236000\n",
      "254200   236000\n",
      "205700   236000\n",
      "240400   236000\n",
      "215140   236000\n",
      "144110   236000\n",
      "147480   236000\n",
      "225755   236000\n",
      "125320   236000\n",
      "131300   236000\n",
      "145590   236000\n",
      "107320   236000\n",
      "121200   236000\n",
      "181000   236000\n",
      "608320   236000\n",
      "170900   236000\n",
      "164230   236000\n",
      "109350   236000\n",
      "121201   236000\n",
      "226000   236000\n",
      "154276   236000\n",
      "103100   236000\n",
      "600082   236000\n",
      "166760   236000\n",
      "166710   236000\n",
      "182830   236000\n",
      "226150   236000\n",
      "606798   236000\n",
      "125310   236000\n",
      "606703   236000\n",
      "311360   236000\n",
      "DB00584 608622 1\n",
      "DB00444 182280 1\n",
      "DB00575 161900 1\n",
      "DB00541 254500 1\n",
      "DB00563 223350 1\n",
      "DB00535 166760 1\n",
      "DB00541 246470 1\n",
      "DB00635 205700 1\n",
      "DB00559 161900 1\n",
      "DB00635 125600 1\n",
      "DB00550 275000 1\n",
      "DB00654 137760 1\n",
      "DB00537 266600 1\n",
      "DB00480 254500 1\n",
      "DB00449 161900 1\n",
      "DB00620 223350 1\n",
      "DB00715 131300 1\n",
      "DB00514 145590 1\n",
      "DB00644 146110 1\n",
      "DB00540 600808 1\n",
      "DB00521 608622 1\n",
      "DB00570 254400 1\n",
      "DB00412 600496 1\n",
      "DB00444 236000 1\n",
      "DB00470 109100 1\n",
      "DB00492 608622 1\n",
      "DB00575 144110 1\n",
      "DB00519 608622 1\n",
      "DB00678 608622 1\n",
      "DB00661 608622 1\n",
      "DB00661 115195 1\n",
      "DB00655 311360 1\n",
      "DB00449 137760 1\n",
      "DB00471 600807 1\n",
      "DB00694 223350 1\n",
      "DB00545 252320 1\n",
      "DB00547 233810 1\n",
      "DB00654 161900 1\n",
      "DB00540 252320 1\n",
      "DB00424 260570 1\n",
      "DB00635 254400 1\n",
      "DB00641 144010 1\n",
      "DB00635 600351 1\n",
      "DB00608 181000 1\n",
      "DB00563 182280 1\n",
      "DB00537 258360 1\n",
      "DB00559 178600 1\n",
      "DB00620 181000 1\n",
      "DB00716 600807 1\n",
      "DB00481 166710 1\n",
      "DB00620 148100 1\n",
      "DB00521 161900 1\n",
      "DB00537 166760 1\n",
      "DB00635 147540 1\n",
      "DB00541 256700 1\n",
      "DB00492 161900 1\n",
      "DB00424 226150 1\n",
      "DB00424 144110 1\n",
      "DB00472 252320 1\n",
      "DB00598 608622 1\n",
      "DB00449 137750 1\n",
      "DB00519 161900 1\n",
      "DB00678 161900 1\n",
      "DB00635 109100 1\n",
      "DB00694 148000 1\n",
      "DB00545 254200 1\n",
      "DB00661 161900 1\n",
      "DB00590 600082 1\n",
      "DB00622 608622 1\n",
      "DB00563 236000 1\n",
      "DB00448 109350 1\n",
      "DB00590 608622 1\n",
      "DB00542 608622 1\n",
      "DB00661 115000 1\n",
      "DB00635 143880 1\n",
      "DB00490 156190 1\n",
      "DB00620 147540 1\n",
      "DB00457 600082 1\n",
      "DB00541 223350 1\n",
      "DB00635 133600 1\n",
      "DB00457 608622 1\n",
      "DB00635 151590 1\n",
      "DB00692 608622 1\n",
      "DB00571 608622 1\n",
      "DB00540 600631 1\n",
      "DB00472 164230 1\n",
      "DB00654 137750 1\n",
      "DB00537 145590 1\n",
      "DB00572 226150 1\n",
      "DB00598 161900 1\n",
      "DB00563 133239 1\n",
      "DB00484 161900 1\n",
      "DB00622 161900 1\n",
      "DB00585 109350 1\n",
      "DB00590 161900 1\n",
      "DB00651 600807 1\n",
      "DB00521 137750 1\n",
      "DB00620 133600 1\n",
      "DB00542 161900 1\n",
      "DB00630 166710 1\n",
      "DB00620 151590 1\n",
      "DB00563 254400 1\n",
      "DB00715 164230 1\n",
      "DB00491 600496 1\n",
      "DB00605 133690 1\n",
      "DB00588 600807 1\n",
      "DB00627 144010 1\n",
      "DB00661 608583 1\n",
      "DB00444 223350 1\n",
      "DB00502 182830 1\n",
      "DB00457 161900 1\n",
      "DB00692 161900 1\n",
      "DB00571 161900 1\n",
      "DB00484 137760 1\n",
      "DB00603 131200 1\n",
      "DB00575 608622 1\n",
      "DB00571 115000 1\n",
      "DB00635 181000 1\n",
      "DB00635 233810 1\n",
      "DB00715 252320 1\n",
      "DB00563 246470 1\n",
      "DB00501 109350 1\n",
      "DB00570 236000 1\n",
      "DB00650 176800 1\n",
      "DB00557 145590 1\n",
      "DB00563 233810 1\n",
      "DB00541 236000 1\n",
      "DB00457 157950 1\n",
      "DB00635 223350 1\n",
      "DB00563 151590 1\n",
      "DB00472 131300 1\n",
      "DB00484 137750 1\n",
      "DB00619 131440 1\n",
      "DB00674 125320 1\n",
      "DB00548 604416 1\n",
      "DB00570 148000 1\n"
     ]
    }
   ],
   "source": [
    "g1 = get_evidence_graph_for_pairs(\n",
    "    'DB00570', '236000', drug_fp_vectors, disease_hp_vectors)\n"
   ]
  },
  {
   "cell_type": "code",
   "execution_count": 102,
   "metadata": {},
   "outputs": [
    {
     "name": "stdout",
     "output_type": "stream",
     "text": [
      "numbee of nodes 202\n",
      "numbee of nodes 336\n"
     ]
    }
   ],
   "source": [
    "print(\"numbee of nodes\",g1.number_of_nodes())\n",
    "print(\"numbee of nodes\", g1.number_of_edges())\n"
   ]
  },
  {
   "cell_type": "code",
   "execution_count": 103,
   "metadata": {},
   "outputs": [
    {
     "data": {
      "text/plain": [
       "{'id': 'DrugBank:DB00572', 'name': 'fake', 'categories': ['biolink:Drug']}"
      ]
     },
     "execution_count": 103,
     "metadata": {},
     "output_type": "execute_result"
    }
   ],
   "source": [
    "g1.node['DrugBank:DB00572']\n"
   ]
  },
  {
   "cell_type": "code",
   "execution_count": 104,
   "metadata": {},
   "outputs": [],
   "source": [
    "length, path = nx.single_source_dijkstra(g1, 'DrugBank:DB00570', 'OMIM:236000')\n"
   ]
  },
  {
   "cell_type": "code",
   "execution_count": 105,
   "metadata": {},
   "outputs": [],
   "source": [
    "#length, path = nx.single_source_dijkstra(g1, 'DrugBank:DB00570', 'OMIM:236000')\n",
    "path_weight = {}\n",
    "for path in nx.all_simple_paths(g1, 'DrugBank:DB00570', 'OMIM:236000', cutoff=5):\n",
    "    #print (path)\n",
    "    dpath = 0\n",
    "    for i in range(len(path)-1):\n",
    "        #print(g1[path[i]][path[i+1]])\n",
    "        dpath += g1[path[i]][path[i+1]]['weight']\n",
    "    path_weight[str(path)] = dpath\n"
   ]
  },
  {
   "cell_type": "code",
   "execution_count": 106,
   "metadata": {},
   "outputs": [],
   "source": [
    "path_weight_dict = sorted(path_weight.items(), key=lambda x: x[1], )"
   ]
  },
  {
   "cell_type": "code",
   "execution_count": 107,
   "metadata": {},
   "outputs": [
    {
     "data": {
      "text/plain": [
       "[(\"['DrugBank:DB00570', 'OMIM:236000']\", 1),\n",
       " (\"['DrugBank:DB00570', 'DrugBank:DB00541', 'OMIM:236000']\",\n",
       "  1.0274444818496704),\n",
       " (\"['DrugBank:DB00570', 'DrugBank:DB00563', 'OMIM:236000']\",\n",
       "  1.0296038389205933),\n",
       " (\"['DrugBank:DB00570', 'DrugBank:DB00541', 'OMIM:254500', 'OMIM:236000']\",\n",
       "  1.0635769963264465),\n",
       " (\"['DrugBank:DB00570', 'OMIM:148000', 'OMIM:236000']\", 1.0775106549263),\n",
       " (\"['DrugBank:DB00570', 'DrugBank:DB00444', 'OMIM:236000']\",\n",
       "  1.1103540658950806),\n",
       " (\"['DrugBank:DB00570', 'DrugBank:DB00619', 'OMIM:131440', 'OMIM:236000']\",\n",
       "  1.1200258135795593),\n",
       " (\"['DrugBank:DB00570', 'DrugBank:DB00541', 'OMIM:223350', 'OMIM:236000']\",\n",
       "  1.1201560497283936),\n",
       " (\"['DrugBank:DB00570', 'DrugBank:DB00563', 'OMIM:223350', 'OMIM:236000']\",\n",
       "  1.1223154067993164),\n",
       " (\"['DrugBank:DB00570', 'DrugBank:DB00480', 'OMIM:254500', 'OMIM:236000']\",\n",
       "  1.1275046467781067)]"
      ]
     },
     "execution_count": 107,
     "metadata": {},
     "output_type": "execute_result"
    }
   ],
   "source": [
    "path_weight_dict[:10]\n"
   ]
  },
  {
   "cell_type": "code",
   "execution_count": 108,
   "metadata": {},
   "outputs": [
    {
     "name": "stdout",
     "output_type": "stream",
     "text": [
      "['DrugBank:DB00570', 'OMIM:236000'] 1\n",
      "DrugBank:DB00570\n",
      "['DrugBank:DB00570', 'DrugBank:DB00541', 'OMIM:236000'] 1.0274444818496704\n",
      "DrugBank:DB00570\n",
      "DrugBank:DB00541\n",
      "['DrugBank:DB00570', 'DrugBank:DB00563', 'OMIM:236000'] 1.0296038389205933\n",
      "DrugBank:DB00570\n",
      "DrugBank:DB00563\n",
      "['DrugBank:DB00570', 'DrugBank:DB00541', 'OMIM:254500', 'OMIM:236000'] 1.0635769963264465\n",
      "DrugBank:DB00570\n",
      "DrugBank:DB00541\n",
      "OMIM:254500\n",
      "['DrugBank:DB00570', 'OMIM:148000', 'OMIM:236000'] 1.0775106549263\n",
      "DrugBank:DB00570\n",
      "OMIM:148000\n",
      "['DrugBank:DB00570', 'DrugBank:DB00444', 'OMIM:236000'] 1.1103540658950806\n",
      "DrugBank:DB00570\n",
      "DrugBank:DB00444\n",
      "['DrugBank:DB00570', 'DrugBank:DB00619', 'OMIM:131440', 'OMIM:236000'] 1.1200258135795593\n",
      "DrugBank:DB00570\n",
      "DrugBank:DB00619\n",
      "OMIM:131440\n",
      "['DrugBank:DB00570', 'DrugBank:DB00541', 'OMIM:223350', 'OMIM:236000'] 1.1201560497283936\n",
      "DrugBank:DB00570\n",
      "DrugBank:DB00541\n",
      "OMIM:223350\n",
      "['DrugBank:DB00570', 'DrugBank:DB00563', 'OMIM:223350', 'OMIM:236000'] 1.1223154067993164\n",
      "DrugBank:DB00570\n",
      "DrugBank:DB00563\n",
      "OMIM:223350\n",
      "['DrugBank:DB00570', 'DrugBank:DB00480', 'OMIM:254500', 'OMIM:236000'] 1.1275046467781067\n",
      "DrugBank:DB00570\n",
      "DrugBank:DB00480\n",
      "OMIM:254500\n"
     ]
    }
   ],
   "source": [
    "import ast\n",
    "G = nx.Graph()\n",
    "for p, s in path_weight_dict[:10]:\n",
    "    path = ast.literal_eval(p)\n",
    "    print(path, s)\n",
    "    for i in range(len(path)-1):\n",
    "        print(path[i])\n",
    "        s_node_name = path[i]\n",
    "        t_node_name = path[i+1]\n",
    "        edge_data = g1[s_node_name][t_node_name]\n",
    "        #print(node_name)\n",
    "        G.add_node(s_node_name, g1.node[s_node_name])\n",
    "        G.add_node(t_node_name, g1.node[t_node_name])\n",
    "        G.add_edge(s_node_name, t_node_name, edge_data)\n"
   ]
  },
  {
   "cell_type": "code",
   "execution_count": 230,
   "metadata": {},
   "outputs": [],
   "source": []
  },
  {
   "cell_type": "code",
   "execution_count": 231,
   "metadata": {},
   "outputs": [
    {
     "data": {
      "text/plain": [
       "19"
      ]
     },
     "execution_count": 231,
     "metadata": {},
     "output_type": "execute_result"
    }
   ],
   "source": [
    "G.number_of_edges()"
   ]
  },
  {
   "cell_type": "code",
   "execution_count": 232,
   "metadata": {},
   "outputs": [
    {
     "data": {
      "text/plain": [
       "11"
      ]
     },
     "execution_count": 232,
     "metadata": {},
     "output_type": "execute_result"
    }
   ],
   "source": [
    "G.number_of_nodes()\n"
   ]
  },
  {
   "cell_type": "code",
   "execution_count": 236,
   "metadata": {},
   "outputs": [
    {
     "data": {
      "text/plain": [
       "{'id': 'DrugBank:DB00570_OMIM:236000',\n",
       " 'predicate': 'biolink:treats',\n",
       " 'subject': 'DrugBank:DB00570',\n",
       " 'object': 'OMIM:236000',\n",
       " 'weight': 1,\n",
       " 'attributes': {'description': 'score',\n",
       "  'attribute_type_id': 'EDAM:data_1772',\n",
       "  'value': '1.0'}}"
      ]
     },
     "execution_count": 236,
     "metadata": {},
     "output_type": "execute_result"
    }
   ],
   "source": [
    "G['DrugBank:DB00570']['OMIM:236000']\n"
   ]
  },
  {
   "cell_type": "code",
   "execution_count": 237,
   "metadata": {},
   "outputs": [
    {
     "data": {
      "text/plain": [
       "{'id': 'DrugBank:DB00570', 'name': 'fake', 'categories': ['biolink:Drug']}"
      ]
     },
     "execution_count": 237,
     "metadata": {},
     "output_type": "execute_result"
    }
   ],
   "source": [
    "G.node['DrugBank:DB00570']\n"
   ]
  },
  {
   "cell_type": "code",
   "execution_count": 238,
   "metadata": {},
   "outputs": [],
   "source": [
    "graph_json ={}"
   ]
  },
  {
   "cell_type": "code",
   "execution_count": 239,
   "metadata": {},
   "outputs": [
    {
     "name": "stdout",
     "output_type": "stream",
     "text": [
      "{'id': 'DrugBank:DB00570', 'name': 'fake', 'categories': ['biolink:Drug']}\n",
      "{'id': 'OMIM:236000', 'name': 'fake', 'categories': ['biolink:Disease']}\n",
      "{'id': 'DrugBank:DB00541', 'name': 'fake', 'categories': ['biolink:Drug']}\n",
      "{'id': 'DrugBank:DB00563', 'name': 'fake', 'categories': ['biolink:Drug']}\n",
      "{'id': 'OMIM:254500', 'name': 'fake', 'categories': ['biolink:Disease']}\n",
      "{'id': 'OMIM:148000', 'name': 'fake', 'categories': ['biolink:Disease']}\n",
      "{'id': 'DrugBank:DB00444', 'name': 'fake', 'categories': ['biolink:Drug']}\n",
      "{'id': 'DrugBank:DB00619', 'name': 'fake', 'categories': ['biolink:Drug']}\n",
      "{'id': 'OMIM:131440', 'name': 'fake', 'categories': ['biolink:Disease']}\n",
      "{'id': 'OMIM:223350', 'name': 'fake', 'categories': ['biolink:Disease']}\n",
      "{'id': 'DrugBank:DB00480', 'name': 'fake', 'categories': ['biolink:Drug']}\n"
     ]
    }
   ],
   "source": [
    "\n",
    "graph_json['nodes'] = list()\n",
    "for node in G.nodes():\n",
    "    #print (node)\n",
    "    print(G.node[node])\n",
    "    graph_json['nodes'].append(G.node[node])\n"
   ]
  },
  {
   "cell_type": "code",
   "execution_count": 240,
   "metadata": {},
   "outputs": [],
   "source": [
    "\n",
    "graph_json['edges']=list()\n",
    "for edge in G.edges():\n",
    "    #print (edge)\n",
    "    #print(G[edge[0]][edge[1]], type(G[edge[0]][edge[1]]))\n",
    "    graph_json['edges'].append(G[edge[0]][edge[1]])\n"
   ]
  },
  {
   "cell_type": "code",
   "execution_count": 241,
   "metadata": {},
   "outputs": [
    {
     "data": {
      "text/plain": [
       "{'nodes': [{'id': 'DrugBank:DB00570',\n",
       "   'name': 'fake',\n",
       "   'categories': ['biolink:Drug']},\n",
       "  {'id': 'OMIM:236000', 'name': 'fake', 'categories': ['biolink:Disease']},\n",
       "  {'id': 'DrugBank:DB00541', 'name': 'fake', 'categories': ['biolink:Drug']},\n",
       "  {'id': 'DrugBank:DB00563', 'name': 'fake', 'categories': ['biolink:Drug']},\n",
       "  {'id': 'OMIM:254500', 'name': 'fake', 'categories': ['biolink:Disease']},\n",
       "  {'id': 'OMIM:148000', 'name': 'fake', 'categories': ['biolink:Disease']},\n",
       "  {'id': 'DrugBank:DB00444', 'name': 'fake', 'categories': ['biolink:Drug']},\n",
       "  {'id': 'DrugBank:DB00619', 'name': 'fake', 'categories': ['biolink:Drug']},\n",
       "  {'id': 'OMIM:131440', 'name': 'fake', 'categories': ['biolink:Disease']},\n",
       "  {'id': 'OMIM:223350', 'name': 'fake', 'categories': ['biolink:Disease']},\n",
       "  {'id': 'DrugBank:DB00480', 'name': 'fake', 'categories': ['biolink:Drug']}],\n",
       " 'edges': [{'id': 'DrugBank:DB00570_OMIM:236000',\n",
       "   'predicate': 'biolink:treats',\n",
       "   'subject': 'DrugBank:DB00570',\n",
       "   'object': 'OMIM:236000',\n",
       "   'weight': 1,\n",
       "   'attributes': {'description': 'score',\n",
       "    'attribute_type_id': 'EDAM:data_1772',\n",
       "    'value': '1.0'}},\n",
       "  {'id': 'DrugBank:DB00541_DrugBank: DB00570',\n",
       "   'predicate': 'biolink:similar_to',\n",
       "   'subject': 'DrugBank:DB00541',\n",
       "   'object': 'DrugBank:DB00570',\n",
       "   'weight': 0.02744448184967041,\n",
       "   'attributes': {'description': 'score',\n",
       "    'attribute_type_id': 'EDAM:data_1772',\n",
       "    'value': 0.02744448184967041}},\n",
       "  {'id': 'DrugBank:DB00563_DrugBank: DB00570',\n",
       "   'predicate': 'biolink:similar_to',\n",
       "   'subject': 'DrugBank:DB00563',\n",
       "   'object': 'DrugBank:DB00570',\n",
       "   'weight': 0.02960383892059326,\n",
       "   'attributes': {'description': 'score',\n",
       "    'attribute_type_id': 'EDAM:data_1772',\n",
       "    'value': 0.02960383892059326}},\n",
       "  {'id': 'DrugBank:DB00570_OMIM:148000',\n",
       "   'predicate': 'biolink:treats',\n",
       "   'subject': 'DrugBank:DB00570',\n",
       "   'object': 'OMIM:148000',\n",
       "   'weight': 1,\n",
       "   'attributes': {'description': 'score',\n",
       "    'attribute_type_id': 'EDAM:data_1772',\n",
       "    'value': '1.0'}},\n",
       "  {'id': 'DrugBank:DB00444_DrugBank: DB00570',\n",
       "   'predicate': 'biolink:similar_to',\n",
       "   'subject': 'DrugBank:DB00444',\n",
       "   'object': 'DrugBank:DB00570',\n",
       "   'weight': 0.11035406589508057,\n",
       "   'attributes': {'description': 'score',\n",
       "    'attribute_type_id': 'EDAM:data_1772',\n",
       "    'value': 0.11035406589508057}},\n",
       "  {'id': 'DrugBank:DB00619_DrugBank: DB00570',\n",
       "   'predicate': 'biolink:similar_to',\n",
       "   'subject': 'DrugBank:DB00619',\n",
       "   'object': 'DrugBank:DB00570',\n",
       "   'weight': 0.07140552997589111,\n",
       "   'attributes': {'description': 'score',\n",
       "    'attribute_type_id': 'EDAM:data_1772',\n",
       "    'value': 0.07140552997589111}},\n",
       "  {'id': 'DrugBank:DB00480_DrugBank: DB00570',\n",
       "   'predicate': 'biolink:similar_to',\n",
       "   'subject': 'DrugBank:DB00480',\n",
       "   'object': 'DrugBank:DB00570',\n",
       "   'weight': 0.09137213230133057,\n",
       "   'attributes': {'description': 'score',\n",
       "    'attribute_type_id': 'EDAM:data_1772',\n",
       "    'value': 0.09137213230133057}},\n",
       "  {'id': 'DrugBank:DB00541_OMIM:236000',\n",
       "   'predicate': 'biolink:treats',\n",
       "   'subject': 'DrugBank:DB00541',\n",
       "   'object': 'OMIM:236000',\n",
       "   'weight': 1,\n",
       "   'attributes': {'description': 'score',\n",
       "    'attribute_type_id': 'EDAM:data_1772',\n",
       "    'value': '1.0'}},\n",
       "  {'id': 'DrugBank:DB00563_OMIM:236000',\n",
       "   'predicate': 'biolink:treats',\n",
       "   'subject': 'DrugBank:DB00563',\n",
       "   'object': 'OMIM:236000',\n",
       "   'weight': 1,\n",
       "   'attributes': {'description': 'score',\n",
       "    'attribute_type_id': 'EDAM:data_1772',\n",
       "    'value': '1.0'}},\n",
       "  {'id': 'OMIM:254500_OMIM:236000',\n",
       "   'predicate': 'biolink:similar_to',\n",
       "   'subject': 'OMIM:254500',\n",
       "   'object': 'OMIM:236000',\n",
       "   'weight': 0.03613251447677612,\n",
       "   'attributes': {'description': 'score',\n",
       "    'attribute_type_id': 'EDAM:data_1772',\n",
       "    'value': 0.03613251447677612}},\n",
       "  {'id': 'OMIM:148000_OMIM:236000',\n",
       "   'predicate': 'biolink:similar_to',\n",
       "   'subject': 'OMIM:148000',\n",
       "   'object': 'OMIM:236000',\n",
       "   'weight': 0.07751065492630005,\n",
       "   'attributes': {'description': 'score',\n",
       "    'attribute_type_id': 'EDAM:data_1772',\n",
       "    'value': 0.07751065492630005}},\n",
       "  {'id': 'DrugBank:DB00444_OMIM:236000',\n",
       "   'predicate': 'biolink:treats',\n",
       "   'subject': 'DrugBank:DB00444',\n",
       "   'object': 'OMIM:236000',\n",
       "   'weight': 1,\n",
       "   'attributes': {'description': 'score',\n",
       "    'attribute_type_id': 'EDAM:data_1772',\n",
       "    'value': '1.0'}},\n",
       "  {'id': 'OMIM:131440_OMIM:236000',\n",
       "   'predicate': 'biolink:similar_to',\n",
       "   'subject': 'OMIM:131440',\n",
       "   'object': 'OMIM:236000',\n",
       "   'weight': 0.04862028360366821,\n",
       "   'attributes': {'description': 'score',\n",
       "    'attribute_type_id': 'EDAM:data_1772',\n",
       "    'value': 0.04862028360366821}},\n",
       "  {'id': 'OMIM:223350_OMIM:236000',\n",
       "   'predicate': 'biolink:similar_to',\n",
       "   'subject': 'OMIM:223350',\n",
       "   'object': 'OMIM:236000',\n",
       "   'weight': 0.09271156787872314,\n",
       "   'attributes': {'description': 'score',\n",
       "    'attribute_type_id': 'EDAM:data_1772',\n",
       "    'value': 0.09271156787872314}},\n",
       "  {'id': 'DrugBank:DB00541_OMIM:254500',\n",
       "   'predicate': 'biolink:treats',\n",
       "   'subject': 'DrugBank:DB00541',\n",
       "   'object': 'OMIM:254500',\n",
       "   'weight': 1,\n",
       "   'attributes': {'description': 'score',\n",
       "    'attribute_type_id': 'EDAM:data_1772',\n",
       "    'value': '1.0'}},\n",
       "  {'id': 'DrugBank:DB00541_OMIM:223350',\n",
       "   'predicate': 'biolink:treats',\n",
       "   'subject': 'DrugBank:DB00541',\n",
       "   'object': 'OMIM:223350',\n",
       "   'weight': 1,\n",
       "   'attributes': {'description': 'score',\n",
       "    'attribute_type_id': 'EDAM:data_1772',\n",
       "    'value': '1.0'}},\n",
       "  {'id': 'DrugBank:DB00563_OMIM:223350',\n",
       "   'predicate': 'biolink:treats',\n",
       "   'subject': 'DrugBank:DB00563',\n",
       "   'object': 'OMIM:223350',\n",
       "   'weight': 1,\n",
       "   'attributes': {'description': 'score',\n",
       "    'attribute_type_id': 'EDAM:data_1772',\n",
       "    'value': '1.0'}},\n",
       "  {'id': 'DrugBank:DB00480_OMIM:254500',\n",
       "   'predicate': 'biolink:treats',\n",
       "   'subject': 'DrugBank:DB00480',\n",
       "   'object': 'OMIM:254500',\n",
       "   'weight': 1,\n",
       "   'attributes': {'description': 'score',\n",
       "    'attribute_type_id': 'EDAM:data_1772',\n",
       "    'value': '1.0'}},\n",
       "  {'id': 'DrugBank:DB00619_OMIM:131440',\n",
       "   'predicate': 'biolink:treats',\n",
       "   'subject': 'DrugBank:DB00619',\n",
       "   'object': 'OMIM:131440',\n",
       "   'weight': 1,\n",
       "   'attributes': {'description': 'score',\n",
       "    'attribute_type_id': 'EDAM:data_1772',\n",
       "    'value': '1.0'}}]}"
      ]
     },
     "execution_count": 241,
     "metadata": {},
     "output_type": "execute_result"
    }
   ],
   "source": [
    "graph_json"
   ]
  },
  {
   "cell_type": "code",
   "execution_count": 244,
   "metadata": {},
   "outputs": [
    {
     "data": {
      "image/png": "[encoded data removed]",
      "text/plain": [
       "<Figure size 432x288 with 1 Axes>"
      ]
     },
     "metadata": {},
     "output_type": "display_data"
    }
   ],
   "source": [
    "import matplotlib.pyplot as plt\n",
    "#G = nx.dodecahedral_graph()\n",
    "#nx.draw(G)  # networkx draw()\n",
    "#plt.draw()  # pyplot draw()\n",
    "#plt.show()\n",
    "\n",
    "options = {\n",
    "    \"font_size\": 36,\n",
    "    \"node_size\": 3000,\n",
    "    \"node_color\": \"white\",\n",
    "    \"edgecolors\": \"black\",\n",
    "    \"linewidths\": 5,\n",
    "    \"width\": 5,\n",
    "}\n",
    "nx.draw(G, pos=nx.spring_layout(G))\n",
    "plt.draw()\n"
   ]
  }
 ],
 "metadata": {
  "interpreter": {
   "hash": "c584c1a025cadf5bcd26cc1c6a3e61ed26ad941b3a7bb4357782f1e9cd62a8da"
  },
  "kernelspec": {
   "display_name": "Python 3.8.3 ('.venv': venv)",
   "language": "python",
   "name": "python3"
  },
  "language_info": {
   "codemirror_mode": {
    "name": "ipython",
    "version": 3
   },
   "file_extension": ".py",
   "mimetype": "text/x-python",
   "name": "python",
   "nbconvert_exporter": "python",
   "pygments_lexer": "ipython3",
   "version": "3.8.3"
  },
  "orig_nbformat": 4
 },
 "nbformat": 4,
 "nbformat_minor": 2
}
